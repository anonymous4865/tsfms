{
 "cells": [
  {
   "cell_type": "code",
   "execution_count": null,
   "metadata": {
    "id": "iKBPbswiuKMC"
   },
   "outputs": [],
   "source": [
    "import pandas as pd\n",
    "import numpy as np\n",
    "import matplotlib.pyplot as plt\n",
    "import torch\n",
    "from chronos import ChronosPipeline\n",
    "from sklearn.metrics import mean_absolute_error, mean_squared_error\n",
    "import math\n",
    "import warnings\n",
    "warnings.filterwarnings('ignore')\n",
    "\n",
    "RESULTS = {}\n",
    "\n",
    "def log_simple_result(results_dict, dataset_name, horizon, mae, rmse, mape, r2):\n",
    "    results_dict[dataset_name] = {\n",
    "        \"horizon\": horizon,\n",
    "        \"MAE\": round(mae, 2),\n",
    "        \"RMSE\": round(rmse, 2),\n",
    "        \"MAPE (%)\": round(mape, 2),\n",
    "        \"R²\": round(r2, 4)\n",
    "    }\n",
    "\n",
    "def chronos_prediction(dataset, horizon=24, frequency='M', dataset_name=None, results_dict=RESULTS):\n",
    "    train_df, test_df = dataset(horizon=horizon)\n",
    "\n",
    "    # 2. Initialize Chronos model\n",
    "    pipeline = ChronosPipeline.from_pretrained(\n",
    "        \"amazon/chronos-t5-small\",\n",
    "        device_map='cuda',\n",
    "        torch_dtype=torch.bfloat16,\n",
    "    )\n",
    "\n",
    "    # 3. Prepare context\n",
    "    context = torch.tensor(train_df[\"y\"].values)\n",
    "\n",
    "    # 4. Forecast\n",
    "    forecast = pipeline.predict(context, prediction_length=horizon)  # [num_series, num_samples, horizon]\n",
    "    low, median, high = np.quantile(forecast[0].numpy(), [0.1, 0.5, 0.9], axis=0)\n",
    "\n",
    "    # 5. Metrics (using median forecast)\n",
    "    actuals = test_df[\"y\"].values\n",
    "    preds = median\n",
    "    mae = mean_absolute_error(actuals, preds)\n",
    "    mape = np.mean(np.abs((actuals - preds) / actuals)) * 100\n",
    "    rmse = math.sqrt(mean_squared_error(actuals, preds))\n",
    "    r2 = 1 - np.sum((actuals - preds) ** 2) / np.sum((actuals - np.mean(actuals)) ** 2)\n",
    "\n",
    "    # Save simple results\n",
    "    name = dataset_name or getattr(dataset, \"__name__\", \"unnamed_dataset\")\n",
    "    log_simple_result(results_dict, name, horizon, mae, rmse, mape, r2)\n",
    "\n",
    "\n",
    "    # Plot\n",
    "    import matplotlib.pyplot as plt\n",
    "    plt.figure(figsize=(8, 4))\n",
    "    plt.plot(train_df['ds'], train_df['y'], label=\"Train\")\n",
    "    plt.plot(test_df['ds'], actuals, label=\"Actual\", marker='o')\n",
    "    plt.plot(test_df['ds'], preds, label=\"Forecast\", marker='x')\n",
    "    plt.title(f\"{name} Forecast - Chronos (H={horizon})\")\n",
    "    plt.xlabel(\"Date\")\n",
    "    plt.ylabel(\"y\")\n",
    "    plt.legend()\n",
    "    plt.grid(True)\n",
    "    plt.show()\n",
    "\n",
    "    return RESULTS"
   ]
  },
  {
   "cell_type": "markdown",
   "metadata": {
    "id": "rf45cBMaoNMd"
   },
   "source": [
    "# 1 Airpassengers"
   ]
  },
  {
   "cell_type": "code",
   "execution_count": null,
   "metadata": {
    "colab": {
     "base_uri": "https://localhost:8080/",
     "height": 497
    },
    "id": "qrepi41yln_g",
    "outputId": "8c5e92be-3d7c-4551-8c79-170fe7ed9ecc"
   },
   "outputs": [],
   "source": [
    "def load_air_passengers(horizon=24, unique_id=\"AP1\"):\n",
    "    url = \"https://raw.githubusercontent.com/jbrownlee/Datasets/master/airline-passengers.csv\"\n",
    "    df = pd.read_csv(url)\n",
    "    df['Month'] = pd.to_datetime(df['Month'])\n",
    "    df = df.rename(columns={\"Month\": \"ds\", \"Passengers\": \"y\"})\n",
    "    train_df = df.iloc[:-horizon].copy()\n",
    "    test_df = df.iloc[-horizon:].copy()\n",
    "    train_df['unique_id'] = unique_id\n",
    "    test_df['unique_id'] = unique_id\n",
    "    return train_df[['unique_id', 'ds', 'y']], test_df[['unique_id', 'ds', 'y']]\n",
    "\n",
    "chronos_prediction(load_air_passengers, horizon=24, frequency='M')"
   ]
  },
  {
   "cell_type": "markdown",
   "metadata": {
    "id": "43_6GLHtnFvS"
   },
   "source": [
    "# 2. Sunspots"
   ]
  },
  {
   "cell_type": "code",
   "execution_count": null,
   "metadata": {
    "colab": {
     "base_uri": "https://localhost:8080/",
     "height": 656
    },
    "id": "3-pf3DJEoJ4_",
    "outputId": "0a749c22-cbb7-41d7-d1e4-a6d513e850a7"
   },
   "outputs": [],
   "source": [
    "def load_air_sunsopts(horizon=24, unique_id=\"AP1\"):\n",
    "\n",
    "    url = \"https://raw.githubusercontent.com/ahamed14051/time-series-dataset/refs/heads/main/Sunspots.csv\"\n",
    "    df = pd.read_csv(url)\n",
    "    df = df.drop(columns=['Unnamed: 0'])\n",
    "    print(df.shape)\n",
    "\n",
    "    # Standardize column names\n",
    "    df['Date'] = pd.to_datetime(df['Date'])\n",
    "    df = df.rename(columns={\"Date\": \"ds\", \"Monthly Mean Total Sunspot Number\": \"y\"})\n",
    "    print('Mean: ', df['y'].mean())\n",
    "\n",
    "    # Split train/test\n",
    "    train_df = df.iloc[:-horizon].copy()\n",
    "    test_df = df.iloc[-horizon:].copy()\n",
    "\n",
    "    # Add unique_id\n",
    "    train_df['unique_id'] = unique_id\n",
    "    test_df['unique_id'] = unique_id\n",
    "\n",
    "    return train_df[['unique_id', 'ds', 'y']], test_df[['unique_id', 'ds', 'y']]\n",
    "\n",
    "chronos_prediction(load_air_sunsopts, horizon=120)"
   ]
  },
  {
   "cell_type": "markdown",
   "metadata": {
    "id": "sGJfjIVhoxfF"
   },
   "source": [
    "# 3 . Daily Temp"
   ]
  },
  {
   "cell_type": "code",
   "execution_count": null,
   "metadata": {
    "colab": {
     "base_uri": "https://localhost:8080/",
     "height": 725
    },
    "id": "3tcFd1_no5UW",
    "outputId": "1b86ea34-6821-4517-a797-c428f26368fb"
   },
   "outputs": [],
   "source": [
    "def load_temp(horizon=24, unique_id=\"AP1\"):\n",
    "    df = pd.read_csv(\"https://raw.githubusercontent.com/ahamed14051/time-series-dataset/refs/heads/main/temp.csv\")\n",
    "\n",
    "    # Remove unnamed columns\n",
    "    if 'Unnamed: 2' in df.columns:\n",
    "        df = df.drop(columns=['Unnamed: 2'])\n",
    "\n",
    "    # Parse date safely\n",
    "    df['Date'] = pd.to_datetime(df['Date'], errors='coerce')\n",
    "\n",
    "    # Drop rows with invalid dates (like the description text)\n",
    "    df = df.dropna(subset=['Date'])\n",
    "\n",
    "    # Rename columns\n",
    "    df = df.rename(columns={\"Date\": \"ds\", \"temp\": \"y\"})\n",
    "\n",
    "    # Convert 'y' to numeric, coercing errors to NaN and dropping them\n",
    "    df['y'] = pd.to_numeric(df['y'], errors='coerce')\n",
    "    df = df.dropna(subset=['y'])\n",
    "\n",
    "    print('Mean:', df['y'].mean())\n",
    "\n",
    "    # Train/test split\n",
    "    train_df = df.iloc[:-horizon].copy()\n",
    "    test_df = df.iloc[-horizon:].copy()\n",
    "\n",
    "    # Add unique_id\n",
    "    train_df['unique_id'] = unique_id\n",
    "    test_df['unique_id'] = unique_id\n",
    "\n",
    "    return train_df[['unique_id', 'ds', 'y']], test_df[['unique_id', 'ds', 'y']]\n",
    "\n",
    "chronos_prediction(load_temp, frequency='D', horizon=240)"
   ]
  },
  {
   "cell_type": "markdown",
   "metadata": {
    "id": "hzm0gbK4pBR9"
   },
   "source": [
    "# 4. Rainfall (Temp)"
   ]
  },
  {
   "cell_type": "code",
   "execution_count": null,
   "metadata": {
    "colab": {
     "base_uri": "https://localhost:8080/",
     "height": 774
    },
    "id": "A2mp1uO7pHsL",
    "outputId": "5b6308c7-1cd2-4efa-a56e-709c5ef274a4"
   },
   "outputs": [],
   "source": [
    "def load_temperature(horizon=24, unique_id=\"AP1\"):\n",
    "    # Load the dataset\n",
    "    df = pd.read_csv(\"https://raw.githubusercontent.com/ahamed14051/time-series-dataset/refs/heads/main/Rainfall_data.csv\")\n",
    "\n",
    "    # Create timestamp from Year, Month, Day\n",
    "    df['ds'] = pd.to_datetime(df[['Year', 'Month', 'Day']])\n",
    "\n",
    "    # Use Temperature column as 'y'\n",
    "    df['y'] = pd.to_numeric(df['Temperature'], errors='coerce')\n",
    "    df = df.dropna(subset=['y'])\n",
    "\n",
    "    print('Mean Temperature:', df['y'].mean())\n",
    "\n",
    "    # Train/test split\n",
    "    train_df = df.iloc[:-horizon].copy()\n",
    "    test_df = df.iloc[-horizon:].copy()\n",
    "\n",
    "    # Add unique_id\n",
    "    train_df['unique_id'] = unique_id\n",
    "    test_df['unique_id'] = unique_id\n",
    "\n",
    "    return train_df[['unique_id', 'ds', 'y']], test_df[['unique_id', 'ds', 'y']]\n",
    "\n",
    "chronos_prediction(load_temperature, frequency='M', horizon=24)"
   ]
  },
  {
   "cell_type": "markdown",
   "metadata": {
    "id": "SXLViVSipP0U"
   },
   "source": [
    "# 5. Precipitation"
   ]
  },
  {
   "cell_type": "code",
   "execution_count": null,
   "metadata": {
    "colab": {
     "base_uri": "https://localhost:8080/",
     "height": 861
    },
    "id": "ZVF2HYxWpVZg",
    "outputId": "48dc5567-e9bc-4617-e0f6-073810be88ba"
   },
   "outputs": [],
   "source": [
    "def load_precipitation(horizon=24, unique_id=\"AP1\"):\n",
    "    # Load the dataset\n",
    "    df = pd.read_csv(\"https://raw.githubusercontent.com/ahamed14051/time-series-dataset/refs/heads/main/Rainfall_data.csv\")\n",
    "\n",
    "    # Create timestamp from Year, Month, Day\n",
    "    df['ds'] = pd.to_datetime(df[['Year', 'Month', 'Day']])\n",
    "\n",
    "    # Use Temperature column as 'y'\n",
    "    df['y'] = pd.to_numeric(df['Precipitation'], errors='coerce')\n",
    "    df = df.dropna(subset=['y'])\n",
    "\n",
    "    print('Mean Precipitation:', df['y'].mean())\n",
    "\n",
    "    # Train/test split\n",
    "    train_df = df.iloc[:-horizon].copy()\n",
    "    test_df = df.iloc[-horizon:].copy()\n",
    "\n",
    "    # Add unique_id\n",
    "    train_df['unique_id'] = unique_id\n",
    "    test_df['unique_id'] = unique_id\n",
    "\n",
    "    return train_df[['unique_id', 'ds', 'y']], test_df[['unique_id', 'ds', 'y']]\n",
    "\n",
    "chronos_prediction(load_precipitation, frequency='M', horizon=24)"
   ]
  },
  {
   "cell_type": "markdown",
   "metadata": {
    "id": "-XHrrqK5paFQ"
   },
   "source": [
    "# 6. Specific Humidity"
   ]
  },
  {
   "cell_type": "code",
   "execution_count": null,
   "metadata": {
    "colab": {
     "base_uri": "https://localhost:8080/",
     "height": 948
    },
    "id": "TbuphGbFpiGs",
    "outputId": "ee3a3c86-9484-405e-af44-e482c1e32349"
   },
   "outputs": [],
   "source": [
    "def load_humidity(horizon=24, unique_id=\"AP1\"):\n",
    "    # Load the dataset\n",
    "    df = pd.read_csv(\"https://raw.githubusercontent.com/ahamed14051/time-series-dataset/refs/heads/main/Rainfall_data.csv\")\n",
    "\n",
    "    # Create timestamp from Year, Month, Day\n",
    "    df['ds'] = pd.to_datetime(df[['Year', 'Month', 'Day']])\n",
    "\n",
    "    # Use Temperature column as 'y'\n",
    "    df['y'] = pd.to_numeric(df['Specific Humidity'], errors='coerce')\n",
    "    df = df.dropna(subset=['y'])\n",
    "\n",
    "    print('Mean Specific Humidity:', df['y'].mean())\n",
    "\n",
    "    # Train/test split\n",
    "    train_df = df.iloc[:-horizon].copy()\n",
    "    test_df = df.iloc[-horizon:].copy()\n",
    "\n",
    "    # Add unique_id\n",
    "    train_df['unique_id'] = unique_id\n",
    "    test_df['unique_id'] = unique_id\n",
    "\n",
    "    return train_df[['unique_id', 'ds', 'y']], test_df[['unique_id', 'ds', 'y']]\n",
    "\n",
    "chronos_prediction(load_humidity, frequency='M', horizon=24)"
   ]
  },
  {
   "cell_type": "markdown",
   "metadata": {
    "id": "8G9irPs_ppCp"
   },
   "source": [
    "# 7. Relative Humidity"
   ]
  },
  {
   "cell_type": "code",
   "execution_count": null,
   "metadata": {
    "colab": {
     "base_uri": "https://localhost:8080/",
     "height": 1000
    },
    "id": "KYXK1RTVpufR",
    "outputId": "c3e08ce8-faf2-4337-de2e-255a812ad394"
   },
   "outputs": [],
   "source": [
    "def load_relative_humidity(horizon=24, unique_id=\"AP1\"):\n",
    "    # Load the dataset\n",
    "    df = pd.read_csv(\"https://raw.githubusercontent.com/ahamed14051/time-series-dataset/refs/heads/main/Rainfall_data.csv\")\n",
    "\n",
    "    # Create timestamp from Year, Month, Day\n",
    "    df['ds'] = pd.to_datetime(df[['Year', 'Month', 'Day']])\n",
    "\n",
    "    # Use Temperature column as 'y'\n",
    "    df['y'] = pd.to_numeric(df['Relative Humidity'], errors='coerce')\n",
    "    df = df.dropna(subset=['y'])\n",
    "\n",
    "    print('Mean Relative Humidity:', df['y'].mean())\n",
    "\n",
    "    # Train/test split\n",
    "    train_df = df.iloc[:-horizon].copy()\n",
    "    test_df = df.iloc[-horizon:].copy()\n",
    "\n",
    "    # Add unique_id\n",
    "    train_df['unique_id'] = unique_id\n",
    "    test_df['unique_id'] = unique_id\n",
    "\n",
    "    return train_df[['unique_id', 'ds', 'y']], test_df[['unique_id', 'ds', 'y']]\n",
    "\n",
    "chronos_prediction(load_relative_humidity, frequency='M', horizon=24)"
   ]
  },
  {
   "cell_type": "markdown",
   "metadata": {
    "id": "_IEcNhDepz2Q"
   },
   "source": [
    "# 8. Daily Female Birth"
   ]
  },
  {
   "cell_type": "code",
   "execution_count": null,
   "metadata": {
    "colab": {
     "base_uri": "https://localhost:8080/",
     "height": 1000
    },
    "id": "YbEV8fjrp51J",
    "outputId": "5480e0c8-5416-4832-e767-ace0c1750a6e"
   },
   "outputs": [],
   "source": [
    "def load_birth(horizon=24, unique_id=\"AP1\"):\n",
    "    df = pd.read_csv(\"https://raw.githubusercontent.com/jbrownlee/Datasets/master/daily-total-female-births.csv\")\n",
    "\n",
    "    # Remove unnamed columns\n",
    "    if 'Unnamed: 2' in df.columns:\n",
    "        df = df.drop(columns=['Unnamed: 2'])\n",
    "\n",
    "    # Parse date safely\n",
    "    df['Date'] = pd.to_datetime(df['Date'], errors='coerce')\n",
    "\n",
    "    # Drop rows with invalid dates (like the description text)\n",
    "    df = df.dropna(subset=['Date'])\n",
    "\n",
    "    # Rename columns\n",
    "    df = df.rename(columns={\"Date\": \"ds\", \"Births\": \"y\"})\n",
    "\n",
    "    # Convert 'y' to numeric, coercing errors to NaN and dropping them\n",
    "    df['y'] = pd.to_numeric(df['y'], errors='coerce')\n",
    "    df = df.dropna(subset=['y'])\n",
    "\n",
    "    print('Mean:', df['y'].mean())\n",
    "    print(df.shape)\n",
    "\n",
    "    # Train/test split\n",
    "    train_df = df.iloc[:-horizon].copy()\n",
    "    test_df = df.iloc[-horizon:].copy()\n",
    "\n",
    "    # Add unique_id\n",
    "    train_df['unique_id'] = unique_id\n",
    "    test_df['unique_id'] = unique_id\n",
    "\n",
    "    return train_df[['unique_id', 'ds', 'y']], test_df[['unique_id', 'ds', 'y']]\n",
    "\n",
    "chronos_prediction(load_birth, frequency='M', horizon=24)"
   ]
  },
  {
   "cell_type": "markdown",
   "metadata": {
    "id": "vQGcIzEvp8uJ"
   },
   "source": [
    "# 9. Store"
   ]
  },
  {
   "cell_type": "code",
   "execution_count": null,
   "metadata": {
    "colab": {
     "base_uri": "https://localhost:8080/",
     "height": 1000
    },
    "id": "1bvZIPCFp_Mk",
    "outputId": "0f893658-7072-452e-f43d-9035aa29c88c"
   },
   "outputs": [],
   "source": [
    "def load_store(horizon=24, unique_id=\"AP1\"):\n",
    "    df = pd.read_csv(\"https://raw.githubusercontent.com/ahamed14051/time-series-dataset/refs/heads/main/store.csv\")\n",
    "    df = df[(df['store'] == 0) & (df['product'] == 0)]\n",
    "    df = df.drop(columns=['store', 'product'])\n",
    "\n",
    "    df['Date'] = pd.to_datetime(df['Date'], errors='coerce')\n",
    "\n",
    "    # Drop rows with invalid dates (like the description text)\n",
    "    df = df.dropna(subset=['Date'])\n",
    "\n",
    "    # Rename columns\n",
    "    df = df.rename(columns={\"Date\": \"ds\", \"number_sold\": \"y\"})\n",
    "\n",
    "    # Convert 'y' to numeric, coercing errors to NaN and dropping them\n",
    "    df['y'] = pd.to_numeric(df['y'], errors='coerce')\n",
    "    df = df.dropna(subset=['y'])\n",
    "\n",
    "    print('Mean:', df['y'].mean())\n",
    "    print(df.shape)\n",
    "\n",
    "    # Train/test split\n",
    "    train_df = df.iloc[:-horizon].copy()\n",
    "    test_df = df.iloc[-horizon:].copy()\n",
    "\n",
    "    # Add unique_id\n",
    "    train_df['unique_id'] = unique_id\n",
    "    test_df['unique_id'] = unique_id\n",
    "\n",
    "    return train_df[['unique_id', 'ds', 'y']], test_df[['unique_id', 'ds', 'y']]\n",
    "\n",
    "chronos_prediction(load_store, frequency='M', horizon=24)"
   ]
  },
  {
   "cell_type": "markdown",
   "metadata": {
    "id": "zQzysChIqBwt"
   },
   "source": [
    "# 10. Hospitality"
   ]
  },
  {
   "cell_type": "code",
   "execution_count": null,
   "metadata": {
    "colab": {
     "base_uri": "https://localhost:8080/",
     "height": 1000
    },
    "id": "1Z19ztetqQ7T",
    "outputId": "e139ffec-7df5-4da2-bcc4-13cc204b3575"
   },
   "outputs": [],
   "source": [
    "def load_hospitality(horizon=24, unique_id=\"AP1\"):\n",
    "    df = pd.read_csv(\"https://raw.githubusercontent.com/ahamed14051/time-series-dataset/refs/heads/main/HospitalityEmployees.csv\")\n",
    "\n",
    "    df['Date'] = pd.to_datetime(df['Date'], errors='coerce')\n",
    "\n",
    "    # Drop rows with invalid dates (like the description text)\n",
    "    df = df.dropna(subset=['Date'])\n",
    "\n",
    "    # Rename columns\n",
    "    df = df.rename(columns={\"Date\": \"ds\", \"Employees\": \"y\"})\n",
    "\n",
    "    # Convert 'y' to numeric, coercing errors to NaN and dropping them\n",
    "    df['y'] = pd.to_numeric(df['y'], errors='coerce')\n",
    "    df = df.dropna(subset=['y'])\n",
    "\n",
    "    print('Mean:', df['y'].mean())\n",
    "    print(df.shape)\n",
    "\n",
    "    # Train/test split\n",
    "    train_df = df.iloc[:-horizon].copy()\n",
    "    test_df = df.iloc[-horizon:].copy()\n",
    "\n",
    "    # Add unique_id\n",
    "    train_df['unique_id'] = unique_id\n",
    "    test_df['unique_id'] = unique_id\n",
    "\n",
    "    return train_df[['unique_id', 'ds', 'y']], test_df[['unique_id', 'ds', 'y']]\n",
    "\n",
    "chronos_prediction(load_hospitality, frequency='M', horizon=24)"
   ]
  },
  {
   "cell_type": "code",
   "execution_count": null,
   "metadata": {
    "id": "TnXJc4Iyqcxt"
   },
   "outputs": [],
   "source": [
    "chronos_results = pd.DataFrame(RESULTS).T\n",
    "chronos_results.to_csv('chronos_results.csv', index=True)"
   ]
  },
  {
   "cell_type": "code",
   "execution_count": null,
   "metadata": {
    "colab": {
     "base_uri": "https://localhost:8080/",
     "height": 363
    },
    "id": "9i2adWKAqm-s",
    "outputId": "a64460d2-d0ba-41c1-e881-8450280a7435"
   },
   "outputs": [],
   "source": [
    "chronos_results"
   ]
  },
  {
   "cell_type": "code",
   "execution_count": null,
   "metadata": {
    "id": "Ta9ZDG01qn2W"
   },
   "outputs": [],
   "source": []
  }
 ],
 "metadata": {
  "accelerator": "GPU",
  "colab": {
   "gpuType": "T4",
   "provenance": []
  },
  "kernelspec": {
   "display_name": "Python 3 (ipykernel)",
   "language": "python",
   "name": "python3"
  },
  "language_info": {
   "codemirror_mode": {
    "name": "ipython",
    "version": 3
   },
   "file_extension": ".py",
   "mimetype": "text/x-python",
   "name": "python",
   "nbconvert_exporter": "python",
   "pygments_lexer": "ipython3",
   "version": "3.9.10"
  }
 },
 "nbformat": 4,
 "nbformat_minor": 4
}
